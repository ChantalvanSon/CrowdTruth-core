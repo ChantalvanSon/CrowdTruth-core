{
 "cells": [
  {
   "cell_type": "markdown",
   "metadata": {
    "collapsed": true
   },
   "source": [
    "## Sentence Quality Score (SQS)\n",
    "\n",
    "$$ SQS(s) = \\frac{\\sum_{i, j \\in workers(s)} Wcos(WorkVec(i,s), WorkVec(j,s)) \\; WQS(i) \\; WQS(j)}{\\sum_{i, j \\in workers(s)} WQS(i) \\; WQS(j)}, \\; i \\neq j .$$\n",
    "\n",
    "\n",
    "### Weighted Cosine\n",
    "\n",
    "$$ Wcos(vec_1, vec_2) = \\frac{\\sum_{r} vec_1(r) \\; vec_2(r) \\; RQS(r)}{\\sqrt{(\\sum_{r} vec_1^2(r) \\; RQS(r)) \\; (\\sum_{r} vec_2^2(r) \\; RQS(r))}} .$$ \n",
    "\n",
    "\n",
    "## Worker Quality Score (WQS)\n",
    "\n",
    "$$ WQS(i) = WSA(i) \\; WWA(i) .$$\n",
    "\n",
    "### Worker-Sentence Agreement\n",
    "\n",
    "$$ WSA(i) = \\frac{\\sum_{s \\in sentences(i)} Wcos(WorkVec(i,s), SentVec(s) - WorkVec(i, s)) \\; SQS(s)}{\\sum_{s \\in sentences(i)} SQS(s)} .$$\n",
    "\n",
    "### Worker-Worker Agreement\n",
    "\n",
    "$$ WWA(i) = \\frac{ \\sum_{j \\in workers(s \\in sentences(i))} Wcos(WorkVec(i, s), WorkVec(j, s)) \\; WQS(j) \\; SQS(s) }{ \\sum_{j \\in workers(s \\in sentences(i))} WQS(j) \\; SQS(s) }, \\; i \\neq j .$$\n",
    "\n",
    "\n",
    "## Relation Quality Score (RQS)\n",
    "\n",
    "$$ RQS(r) = \\frac{ \\sum_{i,j} WQS(i) \\; WQS(j) \\; P_r(i | j) }{ \\sum_{i,j} WQS(i) \\; WQS(j) }, i \\neq j .$$\n",
    "\n",
    "$$ P_r(i | j) = \\frac{ \\sum_{s \\in sentences(i) \\cap sentences(j) } SQS(s) \\; WorkVec(i, s)(r) \\; WorkVec(j, s)(r) }{ \\sum_{s \\in sentences(i) \\cap sentences(j) } SQS(s) \\; WorkVec(j, s)(r) } . $$\n",
    "\n",
    "\n",
    "## Sentence-Relation Score (SRS)\n",
    "\n",
    "$$ SRS(s) = \\frac{ \\sum_{i \\in workers(s)} WorkVec(i,s) \\; WQS(i) }{ \\sum_{i \\in workers(s)} WQS(i) }. $$"
   ]
  },
  {
   "cell_type": "code",
   "execution_count": null,
   "metadata": {
    "collapsed": true
   },
   "outputs": [],
   "source": []
  }
 ],
 "metadata": {
  "anaconda-cloud": {},
  "kernelspec": {
   "display_name": "Python [conda root]",
   "language": "python",
   "name": "conda-root-py"
  },
  "language_info": {
   "codemirror_mode": {
    "name": "ipython",
    "version": 2
   },
   "file_extension": ".py",
   "mimetype": "text/x-python",
   "name": "python",
   "nbconvert_exporter": "python",
   "pygments_lexer": "ipython2",
   "version": "2.7.13"
  }
 },
 "nbformat": 4,
 "nbformat_minor": 2
}
