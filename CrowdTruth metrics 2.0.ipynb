{
 "cells": [
  {
   "cell_type": "code",
   "execution_count": 1,
   "metadata": {
    "collapsed": true
   },
   "outputs": [],
   "source": [
    "import math\n",
    "import pandas as pd\n",
    "import numpy as np"
   ]
  },
  {
   "cell_type": "code",
   "execution_count": 2,
   "metadata": {
    "collapsed": false
   },
   "outputs": [],
   "source": [
    "# Sentence Quality Score\n",
    "def sentence_quality_score(sentence_id, sent_work_rel_dict, wqs, rqs):\n",
    "    '''\n",
    "    sentence_id\n",
    "    work_sent_rel_dict\n",
    "    rqs: dict of relation_id (string) -> relation quality (float)\n",
    "    wqs: dict of worker_id (string) -> worker quality score\n",
    "    '''\n",
    "    \n",
    "    sqs_numerator = 0.0\n",
    "    sqs_denominator = 0.0\n",
    "    worker_ids = list(sent_work_rel_dict[sentence_id].keys())\n",
    "\n",
    "    for worker_i in range(len(worker_ids) - 1):\n",
    "        for worker_j in range(worker_i + 1, len(worker_ids)):\n",
    "            # print worker_ids[i] + \" - \" + worker_ids[j] + \"\\n\"\n",
    "            numerator = 0.0\n",
    "            denominator_i = 0.0\n",
    "            denominator_j = 0.0\n",
    "            \n",
    "            worker_i_vector = sent_work_rel_dict[sentence_id][worker_ids[worker_i]]\n",
    "            worker_j_vector = sent_work_rel_dict[sentence_id][worker_ids[worker_j]]\n",
    "            \n",
    "            for relation in rqs:\n",
    "                numerator += rqs[relation] * (worker_i_vector[relation] * worker_j_vector[relation])\n",
    "                denominator_i += rqs[relation] * (worker_i_vector[relation] * worker_i_vector[relation])\n",
    "                denominator_j += rqs[relation] * (worker_j_vector[relation] * worker_j_vector[relation])\n",
    "            \n",
    "            weighted_cosine = numerator / math.sqrt(denominator_i * denominator_j)\n",
    "            sqs_numerator += weighted_cosine * wqs[worker_ids[worker_i]] * wqs[worker_ids[worker_j]]\n",
    "            sqs_denominator += wqs[worker_ids[worker_i]] * wqs[worker_ids[worker_j]]\n",
    "    \n",
    "    return sqs_numerator / sqs_denominator\n",
    "\n",
    "\n",
    "# Worker - Sentence Agreement\n",
    "def worker_sentence_agreement(worker_id, sent_rel_dict, work_sent_rel_dict, sqs, rqs):\n",
    "    '''\n",
    "    worker_id\n",
    "    sent_rel_dict\n",
    "    work_sent_rel_dict\n",
    "    sentence_vectors: data frame of sentence vectors\n",
    "    sqs (sentence quality score): dict sentence_id -> sentence quality (float)\n",
    "    rqs: dict of relation_id (string) -> relation quality (float)\n",
    "    '''\n",
    "    wsa_nominator = 0.0\n",
    "    wsa_denominator = 0.0\n",
    "    \n",
    "    for sentence_id in work_sent_rel_dict[worker_id]:\n",
    "        numerator = 0.0\n",
    "        denominator_w = 0.0\n",
    "        denominator_s = 0.0\n",
    "        \n",
    "        worker_vector = work_sent_rel_dict[worker_id][sentence_id]\n",
    "        sentence_vector = sent_rel_dict[sentence_id]\n",
    "        \n",
    "        for relation in rqs:\n",
    "            numerator += rqs[relation] * worker_vector[relation] * (sentence_vector[relation] - worker_vector[relation])\n",
    "            denominator_w += rqs[relation] * (worker_vector[relation] * worker_vector[relation])\n",
    "            denominator_s += rqs[relation] * ((sentence_vector[relation] - worker_vector[relation]) *\n",
    "                                              (sentence_vector[relation] - worker_vector[relation]))\n",
    "        weighted_cosine = numerator / math.sqrt(denominator_w * denominator_s)\n",
    "        wsa_nominator += weighted_cosine * sqs[sentence_id]\n",
    "        wsa_denominator += sqs[sentence_id]\n",
    "    return wsa_nominator / wsa_denominator\n",
    "\n",
    "\n",
    "# Worker - Worker Agreement\n",
    "def worker_worker_agreement(worker_id, work_sent_rel_dict, sent_work_rel_dict, wqs, sqs, rqs):\n",
    "    '''\n",
    "    worker_id\n",
    "    work_sent_rel_dict\n",
    "    sent_work_rel_dict\n",
    "    worker_vectors: data frame of worker vectors\n",
    "    sqs (sentence quality score): dict sentence_id -> sentence quality (float)\n",
    "    rqs: dict of relation_id (string) -> relation quality (float)\n",
    "    '''\n",
    "    \n",
    "    wwa_nominator = 0.0\n",
    "    wwa_denominator = 0.0\n",
    "    \n",
    "    wv = work_sent_rel_dict[worker_id]\n",
    "    sentence_ids = list(work_sent_rel_dict[worker_id].keys())\n",
    "    other_wv = worker_vectors.loc[worker_vectors[\"sentence_id\"].isin(sentence_ids)]\n",
    "    other_wv = other_wv.loc[other_wv[\"worker_id\"] != worker_id]\n",
    "    \n",
    "    for sentence_id in work_sent_rel_dict[worker_id]:\n",
    "        for other_worker_id in sent_work_rel_dict[sentence_id]:\n",
    "            if worker_id != other_worker_id:\n",
    "                numerator = 0.0\n",
    "                denominator_w = 0.0\n",
    "                denominator_ow = 0.0\n",
    "                \n",
    "                for relation in rqs:\n",
    "                    numerator += rqs[relation] * (work_sent_rel_dict[worker_id][sentence_id][relation] *\n",
    "                                                  sent_work_rel_dict[sentence_id][other_worker_id][relation])\n",
    "                    denominator_w += rqs[relation] * (work_sent_rel_dict[worker_id][sentence_id][relation] *\n",
    "                                                      work_sent_rel_dict[worker_id][sentence_id][relation])\n",
    "                    denominator_ow += rqs[relation] * (sent_work_rel_dict[sentence_id][other_worker_id][relation] *\n",
    "                                                       sent_work_rel_dict[sentence_id][other_worker_id][relation])\n",
    "                weighted_cosine = numerator / math.sqrt(denominator_w * denominator_ow)\n",
    "                wwa_nominator += weighted_cosine * wqs[other_worker_id] * sqs[sentence_id]\n",
    "                wwa_denominator += wqs[other_worker_id] * sqs[sentence_id]\n",
    "    return wwa_nominator / wwa_denominator\n",
    "\n",
    "\n",
    "# Sentence - Relation Score\n",
    "def sentence_relation_score(sentence_id, relation, sent_work_rel_dict, wqs):\n",
    "    srs_nominator = 0.0\n",
    "    srs_denominator = 0.0\n",
    "    \n",
    "    for worker_id in sent_work_rel_dict[sentence_id]:\n",
    "        srs_nominator += sent_work_rel_dict[sentence_id][worker_id][relation] * wqs[worker_id]\n",
    "        srs_denominator += wqs[worker_id]\n",
    "    return srs_nominator / srs_denominator\n",
    "\n",
    "\n",
    "# Relation Quality Score\n",
    "def relation_quality_score(relations, work_sent_rel_dict, sqs, wqs):\n",
    "    \n",
    "    rqs_nominator = dict()\n",
    "    rqs_denominator = dict()\n",
    "    \n",
    "    for relation in relations:\n",
    "        rqs_nominator[relation] = 0.0\n",
    "        rqs_denominator[relation] = 0.0\n",
    "    \n",
    "    worker_ids = work_sent_rel_dict.keys()\n",
    "    for worker_i in worker_ids:\n",
    "        for worker_j in worker_ids:\n",
    "            if worker_i != worker_j and len(np.intersect1d(np.array(work_sent_rel_dict[worker_i].keys()),\n",
    "                                                           np.array(work_sent_rel_dict[worker_j].keys()))) > 0:\n",
    "                for relation in relations:\n",
    "                    nominator = 0.0\n",
    "                    denominator = 0.0\n",
    "\n",
    "                    for sentence_id in work_sent_rel_dict[worker_i]:\n",
    "                        if sentence_id in work_sent_rel_dict[worker_j]:\n",
    "                            nominator += sqs[sentence_id] * (work_sent_rel_dict[worker_i][sentence_id][relation] *\n",
    "                                                             work_sent_rel_dict[worker_j][sentence_id][relation])\n",
    "                            denominator += sqs[sentence_id] * work_sent_rel_dict[worker_j][sentence_id][relation]\n",
    "                    if denominator > 0:\n",
    "                        rqs_nominator[relation] += wqs[worker_i] * wqs[worker_j] * nominator / denominator\n",
    "                        rqs_denominator[relation] += wqs[worker_i] * wqs[worker_j]\n",
    "    \n",
    "    rqs = dict()\n",
    "    for relation in relations:\n",
    "        rqs[relation] = rqs_nominator[relation] / rqs_denominator[relation]\n",
    "    return rqs"
   ]
  },
  {
   "cell_type": "code",
   "execution_count": 7,
   "metadata": {
    "collapsed": false
   },
   "outputs": [],
   "source": [
    "worker_vectors = pd.read_csv(\"work_vec.csv\")\n",
    "sentence_vectors = pd.read_csv(\"sent_vec.csv\")\n",
    "relations = pd.read_csv(\"relations.csv\")\n",
    "\n",
    "#initialize quality vectors\n",
    "wqs = dict((worker_id, 1) for worker_id in worker_vectors[\"worker_id\"])\n",
    "sqs = dict((sentence_id, 1) for sentence_id in sentence_vectors[\"sentence_id\"])\n",
    "rqs = relations.set_index('relation').to_dict()['rqs']\n",
    "\n",
    "sent_work_rel_dict = dict()\n",
    "work_sent_rel_dict = dict()\n",
    "sent_rel_dict = dict()\n",
    "\n",
    "for idx in range(len(worker_vectors[\"worker_id\"])):\n",
    "    worker_id = worker_vectors[\"worker_id\"][idx]\n",
    "    sentence_id = worker_vectors[\"sentence_id\"][idx]\n",
    "    if worker_id not in work_sent_rel_dict:\n",
    "        work_sent_rel_dict[worker_id] = dict()\n",
    "    if sentence_id not in sent_work_rel_dict:\n",
    "        sent_work_rel_dict[sentence_id] = dict()\n",
    "    \n",
    "    if sentence_id not in work_sent_rel_dict[worker_id]:\n",
    "        work_sent_rel_dict[worker_id][sentence_id] = dict()\n",
    "    if worker_id not in sent_work_rel_dict[sentence_id]:\n",
    "        sent_work_rel_dict[sentence_id][worker_id] = dict()\n",
    "    \n",
    "    for relation in rqs:\n",
    "        work_sent_rel_dict[worker_id][sentence_id][relation] = worker_vectors[relation][idx]\n",
    "        sent_work_rel_dict[sentence_id][worker_id][relation] = worker_vectors[relation][idx]\n",
    "\n",
    "for idx in range(len(sentence_vectors[\"sentence_id\"])):\n",
    "    sent_rel_dict[sentence_vectors[\"sentence_id\"][idx]] = dict()\n",
    "    for relation in rqs:\n",
    "        sent_rel_dict[sentence_vectors[\"sentence_id\"][idx]][relation] = sentence_vectors[relation][idx]\n",
    "\n",
    "# wsa = dict()\n",
    "# for worker_id in work_sent_rel_dict:\n",
    "#     wsa[worker_id] = worker_sentence_agreement(worker_id, sent_rel_dict, work_sent_rel_dict, sqs, rqs)\n",
    "# print wsa\n",
    "\n",
    "# wwa = dict()\n",
    "# for worker_id in work_sent_rel_dict:\n",
    "#     wwa[worker_id] = worker_worker_agreement(worker_id, work_sent_rel_dict, sent_work_rel_dict, wqs, sqs, rqs)\n",
    "# print wwa\n",
    "\n",
    "# for sentence_id in sent_work_rel_dict::\n",
    "#     sqs[sentence_id] = sentence_quality_score(sentence_id, sent_work_rel_dict, wqs, rqs)\n",
    "# print sqs\n",
    "\n",
    "# srs = dict()\n",
    "# for sentence_id in sent_work_rel_dict:\n",
    "#     srs[sentence_id] = dict()\n",
    "#     for relation in rqs:\n",
    "#         srs[sentence_id][relation] = sentence_relation_score(sentence_id, relation, sent_work_rel_dict, wqs)\n",
    "# print srs"
   ]
  },
  {
   "cell_type": "code",
   "execution_count": 8,
   "metadata": {
    "collapsed": false
   },
   "outputs": [
    {
     "name": "stdout",
     "output_type": "stream",
     "text": [
      "1 iterations; max d= 1.0 ; wqs d= 0.553886434879; sqs d= 0.396470203476; rqs d= 0.418607310549\n",
      "2 iterations; max d= 0.286057109253 ; wqs d= 0.10290864499; sqs d= 0.0510098764171; rqs d= 0.073169657298\n",
      "3 iterations; max d= 0.05604703452 ; wqs d= 0.00761370176294; sqs d= 0.0055877544102; rqs d= 0.00551735858764\n",
      "4 iterations; max d= 0.0236401865824 ; wqs d= 0.00241960090165; sqs d= 0.00219319402518; rqs d= 0.0024072242453\n",
      "5 iterations; max d= 0.00730883271752 ; wqs d= 0.000546140790202; sqs d= 0.000391843565961; rqs d= 0.000328939867273\n",
      "6 iterations; max d= 0.00266893935759 ; wqs d= 0.000171733995101; sqs d= 0.000150031834724; rqs d= 0.000159970062916\n",
      "7 iterations; max d= 0.000917045197753 ; wqs d= 4.96209909582e-05; sqs d= 3.38228635128e-05; rqs d= 2.77450297911e-05\n"
     ]
    }
   ],
   "source": [
    "wqs_list = list()\n",
    "sqs_list = list()\n",
    "rqs_list = list()\n",
    "\n",
    "wqs_list.append(wqs.copy())\n",
    "sqs_list.append(sqs.copy())\n",
    "rqs_list.append(rqs.copy())\n",
    "\n",
    "max_delta = 0.001\n",
    "iterations = 0\n",
    "\n",
    "while max_delta >= 0.001:\n",
    "    sqs_new = dict()\n",
    "    wqs_new = dict()\n",
    "    \n",
    "    avg_sqs_delta = 0.0\n",
    "    avg_wqs_delta = 0.0\n",
    "    avg_rqs_delta = 0.0\n",
    "    max_delta = 0.0\n",
    "    \n",
    "    for sentence_id in sent_work_rel_dict:\n",
    "        sqs_new[sentence_id] = sentence_quality_score(sentence_id, sent_work_rel_dict,\n",
    "                                                      wqs_list[len(wqs_list) - 1],\n",
    "                                                      rqs_list[len(rqs_list) - 1])\n",
    "        max_delta = max(max_delta, abs(sqs_new[sentence_id] - sqs_list[len(sqs_list) - 1][sentence_id]))\n",
    "        avg_sqs_delta += abs(sqs_new[sentence_id] - sqs_list[len(sqs_list) - 1][sentence_id])\n",
    "        if abs(sqs_new[sentence_id] - sqs_list[len(sqs_list) - 1][sentence_id]) > 0.999 and iterations > 5:\n",
    "            print sentence_id\n",
    "    avg_sqs_delta /= len(sqs_new.keys()) * 1.0\n",
    "    \n",
    "    for worker_id in work_sent_rel_dict:\n",
    "        wwa = worker_worker_agreement(worker_id, work_sent_rel_dict, sent_work_rel_dict,\n",
    "                                      wqs_list[len(wqs_list) - 1],\n",
    "                                      sqs_list[len(sqs_list) - 1],\n",
    "                                      rqs_list[len(rqs_list) - 1])\n",
    "        wsa = worker_sentence_agreement(worker_id, sent_rel_dict, work_sent_rel_dict,\n",
    "                                        sqs_list[len(sqs_list) - 1],\n",
    "                                        rqs_list[len(rqs_list) - 1])\n",
    "        wqs_new[worker_id] = wwa * wsa\n",
    "        max_delta = max(max_delta, abs(wqs_new[worker_id] - wqs_list[len(wqs_list) - 1][worker_id]))\n",
    "        avg_wqs_delta += abs(wqs_new[worker_id] - wqs_list[len(wqs_list) - 1][worker_id])\n",
    "        if abs(wqs_new[worker_id] - wqs_list[len(wqs_list) - 1][worker_id]) > 0.999 and iterations > 5:\n",
    "            print worker_id\n",
    "    avg_wqs_delta /= len(wqs_new.keys()) * 1.0\n",
    "    \n",
    "    rqs_new = relation_quality_score(rqs.keys(), work_sent_rel_dict,\n",
    "                                     sqs_list[len(sqs_list) - 1],\n",
    "                                     wqs_list[len(wqs_list) - 1])\n",
    "    for relation in rqs_new:\n",
    "        max_delta = max(max_delta, abs(rqs_new[relation] - rqs_list[len(rqs_list) - 1][relation]))\n",
    "        avg_rqs_delta += abs(rqs_new[relation] - rqs_list[len(rqs_list) - 1][relation])\n",
    "    avg_rqs_delta /= len(rqs_new.keys()) * 1.0\n",
    "    \n",
    "    iterations += 1\n",
    "    wqs_list.append(wqs_new.copy())\n",
    "    sqs_list.append(sqs_new.copy())\n",
    "    rqs_list.append(rqs_new.copy())\n",
    "    print str(iterations) + \" iterations; max d= \" + str(max_delta) + \" ; wqs d= \" + str(avg_wqs_delta) + \"; sqs d= \" + str(avg_sqs_delta) + \"; rqs d= \" + str(avg_rqs_delta)"
   ]
  },
  {
   "cell_type": "code",
   "execution_count": 9,
   "metadata": {
    "collapsed": false
   },
   "outputs": [
    {
     "data": {
      "text/plain": [
       "<matplotlib.text.Text at 0x7efd7b90e4d0>"
      ]
     },
     "execution_count": 9,
     "metadata": {},
     "output_type": "execute_result"
    },
    {
     "data": {
      "image/png": "[encoded data removed]",
      "text/plain": [
       "<matplotlib.figure.Figure at 0x7efd7806cd10>"
      ]
     },
     "metadata": {},
     "output_type": "display_data"
    }
   ],
   "source": [
    "%matplotlib inline  \n",
    "\n",
    "import matplotlib.pyplot as plt\n",
    "\n",
    "sqs = sqs_list[len(sqs_list) - 1]\n",
    "wqs = wqs_list[len(wqs_list) - 1]\n",
    "\n",
    "plt.hist(sqs.values())\n",
    "plt.ylabel('SQS')\n",
    "plt.title('Histogram of SQS')"
   ]
  },
  {
   "cell_type": "code",
   "execution_count": 10,
   "metadata": {
    "collapsed": false
   },
   "outputs": [
    {
     "data": {
      "text/plain": [
       "<matplotlib.text.Text at 0x7efd7209cfd0>"
      ]
     },
     "execution_count": 10,
     "metadata": {},
     "output_type": "execute_result"
    },
    {
     "data": {
      "image/png": "[encoded data removed]",
      "text/plain": [
       "<matplotlib.figure.Figure at 0x7efd780fbd50>"
      ]
     },
     "metadata": {},
     "output_type": "display_data"
    }
   ],
   "source": [
    "plt.hist(wqs.values())\n",
    "plt.ylabel('WQS')\n",
    "plt.title('Histogram of WQS')"
   ]
  },
  {
   "cell_type": "code",
   "execution_count": 7,
   "metadata": {
    "collapsed": false
   },
   "outputs": [],
   "source": [
    "work_data = pd.DataFrame(wqs.items(), columns=['worker_id', 'wqs'])\n",
    "sent_data = pd.DataFrame(sqs.items(), columns=['sentence_id', 'sqs'])\n",
    "\n",
    "work_data.to_csv(\"wqs.csv\")\n",
    "sent_data.to_csv(\"sqs.csv\")"
   ]
  },
  {
   "cell_type": "code",
   "execution_count": 8,
   "metadata": {
    "collapsed": false
   },
   "outputs": [
    {
     "name": "stdout",
     "output_type": "stream",
     "text": [
      "{'none': 0.38495170536102469, 'per:top_member_employee_of_org': 0.52789396854091464, 'per:founded_org': 0.25386827586178268, 'per:children': 0.2848788383253596, 'org:alternate_names': 0.31802619537085564, 'per:age': 0.27226731965666134, 'per:charges': 0.30077315142073852, 'per:schools_attended': 0.2605005449614336, 'per:employee_or_member_of': 0.62339980817777552, 'per:spouse': 0.28817706590382158, 'org:subsidiaries': 0.2471166207884388, 'per:places_of_residence': 0.21349819421490918, 'per:cause_of_death': 0.26513169349013016, 'per:place_of_birth': 0.52134538041334688, 'per:title': 0.26689076447224008, 'org:place_of_headquarters': 0.23986899737119952, 'per:place_of_death': 0.25152760710880412}\n"
     ]
    }
   ],
   "source": [
    "def variance_relation_quality_score(relation, srs, sqs):\n",
    "    rqs_nominator = 0.0\n",
    "    rqs_denominator = 0.0\n",
    "    for sentence_id in srs:\n",
    "        rqs_nominator += sqs[sentence_id] * ((srs[sentence_id][relation] - 0.25) * \n",
    "                                             (srs[sentence_id][relation] - 0.25) / 0.25)\n",
    "        rqs_denominator += sqs[sentence_id]\n",
    "    return rqs_nominator / rqs_denominator\n",
    "\n",
    "srs = dict()\n",
    "for sentence_id in sent_work_rel_dict:\n",
    "    srs[sentence_id] = dict()\n",
    "    for relation in rqs:\n",
    "        srs[sentence_id][relation] = sentence_relation_score(sentence_id, relation, sent_work_rel_dict, wqs)\n",
    "for relation in rqs:\n",
    "    rqs[relation] = variance_relation_quality_score(relation, srs, sqs)\n",
    "\n",
    "print rqs"
   ]
  },
  {
   "cell_type": "code",
   "execution_count": 31,
   "metadata": {
    "collapsed": false
   },
   "outputs": [
    {
     "name": "stdout",
     "output_type": "stream",
     "text": [
      "{'none': 0.6196061516405649, 'per:top_member_employee_of_org': 0.7215411525029158, 'per:founded_org': 0.5025169613618161, 'per:title': 0.6258078182534962, 'per:schools_attended': 0.6386898158972372, 'org:alternate_names': 0.7814830960549048, 'per:age': 0.8667763992773511, 'per:charges': 0.7723701985309992, 'per:employee_or_member_of': 0.7744044499515211, 'per:spouse': 0.8034196806545811, 'org:subsidiaries': 0.4174921576303546, 'per:cause_of_death': 0.6605378361443947, 'per:place_of_birth': 0.8129952104439542, 'per:children': 0.8296356455789913, 'per:places_of_residence': 0.41696924559616866, 'org:place_of_headquarters': 0.3689433600030955, 'per:place_of_death': 0.4625475908346824}\n"
     ]
    }
   ],
   "source": [
    "def relation_quality_score(relations, work_sent_rel_dict, sqs, wqs):\n",
    "    \n",
    "    rqs_nominator = dict()\n",
    "    rqs_denominator = dict()\n",
    "    \n",
    "    for relation in relations:\n",
    "        rqs_nominator[relation] = 0.0\n",
    "        rqs_denominator[relation] = 0.0\n",
    "    \n",
    "    worker_ids = work_sent_rel_dict.keys()\n",
    "    for worker_i in worker_ids:\n",
    "        for worker_j in worker_ids:\n",
    "            if worker_i != worker_j and len(np.intersect1d(np.array(work_sent_rel_dict[worker_i].keys()),\n",
    "                                                           np.array(work_sent_rel_dict[worker_j].keys()))) > 0:\n",
    "                for relation in relations:\n",
    "                    nominator = 0.0\n",
    "                    denominator = 0.0\n",
    "\n",
    "                    for sentence_id in work_sent_rel_dict[worker_i]:\n",
    "                        if sentence_id in work_sent_rel_dict[worker_j]:\n",
    "                            nominator += sqs[sentence_id] * (work_sent_rel_dict[worker_i][sentence_id][relation] *\n",
    "                                                             work_sent_rel_dict[worker_j][sentence_id][relation])\n",
    "                            denominator += sqs[sentence_id] * work_sent_rel_dict[worker_j][sentence_id][relation]\n",
    "                    if denominator > 0:\n",
    "                        rqs_nominator[relation] += wqs[worker_i] * wqs[worker_j] * nominator / denominator\n",
    "                        rqs_denominator[relation] += wqs[worker_i] * wqs[worker_j]\n",
    "    \n",
    "    rqs = dict()\n",
    "    for relation in relations:\n",
    "        rqs[relation] = rqs_nominator[relation] / rqs_denominator[relation]\n",
    "    return rqs\n",
    "\n",
    "rqs_new = relation_quality_score(rqs.keys(), work_sent_rel_dict, sqs, wqs)\n",
    "print rqs_new"
   ]
  },
  {
   "cell_type": "code",
   "execution_count": 11,
   "metadata": {
    "collapsed": false
   },
   "outputs": [
    {
     "name": "stdout",
     "output_type": "stream",
     "text": [
      "{'per:top_member_employee_of_org': 0.7227125486496527, 'org:alternate_names': 0.7814947817623684, 'per:schools_attended': 0.637767468899016, 'per:age': 0.8664689406206121, 'per:charges': 0.772190396777661, 'org:subsidiaries': 0.41665148474336067, 'per:cause_of_death': 0.6607613423585488, 'org:place_of_headquarters': 0.36795341345151134, 'per:title': 0.6249635997120274, 'per:place_of_death': 0.4617569361484294, 'none': 0.6191409001865292, 'per:founded_org': 0.5009398062409746, 'per:places_of_residence': 0.4154409442877624, 'per:employee_or_member_of': 0.7756921323338388, 'per:spouse': 0.8037101902621104, 'per:place_of_birth': 0.8142157221195012, 'per:children': 0.8294828501760665}\n"
     ]
    }
   ],
   "source": [
    "print rqs_list[len(rqs_list) - 1]"
   ]
  },
  {
   "cell_type": "code",
   "execution_count": null,
   "metadata": {
    "collapsed": true
   },
   "outputs": [],
   "source": []
  }
 ],
 "metadata": {
  "anaconda-cloud": {},
  "kernelspec": {
   "display_name": "Python [conda root]",
   "language": "python",
   "name": "conda-root-py"
  },
  "language_info": {
   "codemirror_mode": {
    "name": "ipython",
    "version": 2
   },
   "file_extension": ".py",
   "mimetype": "text/x-python",
   "name": "python",
   "nbconvert_exporter": "python",
   "pygments_lexer": "ipython2",
   "version": "2.7.13"
  }
 },
 "nbformat": 4,
 "nbformat_minor": 2
}
